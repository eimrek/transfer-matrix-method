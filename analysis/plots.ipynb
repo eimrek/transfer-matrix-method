{
 "cells": [
  {
   "cell_type": "code",
   "execution_count": null,
   "metadata": {
    "collapsed": false
   },
   "outputs": [],
   "source": [
    "import numpy as np\n",
    "import matplotlib.pyplot as plt\n",
    "import time\n",
    "%matplotlib auto"
   ]
  },
  {
   "cell_type": "code",
   "execution_count": null,
   "metadata": {
    "collapsed": false
   },
   "outputs": [],
   "source": [
    "data_dir = \"../data/\"\n",
    "param_labels = [\n",
    "    \"f4.0_p4.5_m60.0_em70.0\",\n",
    "    \"f4.0_p4.5_m40.0_em50.0\",\n",
    "    \"f4.0_p4.5_m20.0_em30.0\",\n",
    "    \"f4.0_p4.5_m12.0_em22.0\",\n",
    "    \"f4.0_p4.5_m7.0_em22.0\",\n",
    "    \"f4.0_p4.5_m4.0_em22.0\",\n",
    "    \"f4.0_p4.5_m1.0_em22.0\",\n",
    "    \"f4.0_p4.5_m0.0_em22.0\"\n",
    "]\n",
    "\n",
    "tunnel_data_arr = []\n",
    "pot_arr = []\n",
    "param_arr = []\n",
    "\n",
    "for param_label in param_labels:\n",
    "    pot_file = data_dir + \"potential_\" + param_label + \".txt\"\n",
    "    tunnel_file = data_dir + \"tunnel_data_\" + param_label + \".txt\"\n",
    "    pot_arr.append(np.loadtxt(pot_file))\n",
    "    tunnel_data_arr.append(np.loadtxt(tunnel_file))\n",
    "    \n",
    "    pparts = param_label.split('_')\n",
    "    field = float(pparts[0][1:])\n",
    "    phi = float(pparts[1][1:])\n",
    "    mu = float(pparts[2][1:])\n",
    "    emax = float(pparts[3][2:])\n",
    "    param_arr.append([field, phi, mu, emax])"
   ]
  },
  {
   "cell_type": "code",
   "execution_count": null,
   "metadata": {
    "collapsed": false
   },
   "outputs": [],
   "source": [
    "for i, pot in enumerate(pot_arr):\n",
    "    plt.plot(pot[:, 0], pot[:, 1], \"-\")\n",
    "max_pot = max([np.max(pot) for pot in pot_arr])\n",
    "plt.ylim([-0.2, max_pot+0.2]) \n",
    "plt.show()"
   ]
  },
  {
   "cell_type": "code",
   "execution_count": null,
   "metadata": {
    "collapsed": false
   },
   "outputs": [],
   "source": [
    "for i, tunnel_data in enumerate(tunnel_data_arr):\n",
    "    params = param_arr[i]\n",
    "    mu = params[2]\n",
    "    plt.plot(tunnel_data[:, 0]-mu, tunnel_data[:, 1], \"-\")\n",
    "plt.show()"
   ]
  }
 ],
 "metadata": {
  "anaconda-cloud": {},
  "kernelspec": {
   "display_name": "Python [default]",
   "language": "python",
   "name": "python3"
  },
  "language_info": {
   "codemirror_mode": {
    "name": "ipython",
    "version": 3
   },
   "file_extension": ".py",
   "mimetype": "text/x-python",
   "name": "python",
   "nbconvert_exporter": "python",
   "pygments_lexer": "ipython3",
   "version": "3.5.2"
  }
 },
 "nbformat": 4,
 "nbformat_minor": 1
}
